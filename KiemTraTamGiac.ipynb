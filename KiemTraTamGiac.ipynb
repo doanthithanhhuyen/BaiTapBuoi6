{
 "cells": [
  {
   "cell_type": "code",
   "execution_count": 1,
   "id": "59565c18",
   "metadata": {},
   "outputs": [
    {
     "name": "stdout",
     "output_type": "stream",
     "text": [
      "True\n",
      "False\n",
      "False\n",
      "False\n"
     ]
    }
   ],
   "source": [
    "#khai báo biến\n",
    "xA = 3\n",
    "yA = 2\n",
    "xB = 4\n",
    "yB = 3\n",
    "xC = 1\n",
    "yC = 1\n",
    "#tính độ dài 3 đoạn thẳng\n",
    "A = (xA-xB)*(xA-xB)+(yA-yB)*(yA-yB)\n",
    "B = (xB-xC)*(xB-xC)+(yB-yC)*(yB-yC)\n",
    "C = (xA-xC)*(xA-xC)+(yA-yC)*(yA-yC)\n",
    "a = A**0.5\n",
    "b = B**0.5\n",
    "c = C**0.5\n",
    "t = a + b != c\n",
    "print(t)\n",
    "if t == True:\n",
    "\ttgc = a == b or a == c or b == c;\n",
    "\tprint(tgc);\n",
    "\ttgd = a == b == c; \n",
    "\tprint(tgd);\n",
    "\ttgv\t= a*a == b*b + c or b*b == a*a + c*c or c*c == b*b + a*a;\n",
    "\tprint(tgv)\n"
   ]
  },
  {
   "cell_type": "code",
   "execution_count": null,
   "id": "481d9506",
   "metadata": {},
   "outputs": [],
   "source": []
  }
 ],
 "metadata": {
  "kernelspec": {
   "display_name": "Python 3 (ipykernel)",
   "language": "python",
   "name": "python3"
  },
  "language_info": {
   "codemirror_mode": {
    "name": "ipython",
    "version": 3
   },
   "file_extension": ".py",
   "mimetype": "text/x-python",
   "name": "python",
   "nbconvert_exporter": "python",
   "pygments_lexer": "ipython3",
   "version": "3.9.7"
  }
 },
 "nbformat": 4,
 "nbformat_minor": 5
}
