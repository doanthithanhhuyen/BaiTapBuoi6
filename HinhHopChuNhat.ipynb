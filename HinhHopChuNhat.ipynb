{
 "cells": [
  {
   "cell_type": "code",
   "execution_count": 1,
   "id": "aa3c2d5c",
   "metadata": {},
   "outputs": [
    {
     "name": "stdout",
     "output_type": "stream",
     "text": [
      "20029.333333333332\n"
     ]
    }
   ],
   "source": [
    "x = 111\n",
    "y = 87\n",
    "z = 56\n",
    "a = 3\n",
    "V = \"The_tich_hinh_hop_cn\"\n",
    "v = \"The_tich_hinh_lap_phuong\"\n",
    "V = x*y*z\n",
    "v= a*a*a\n",
    "n = V/v\n",
    "print(n)"
   ]
  },
  {
   "cell_type": "code",
   "execution_count": null,
   "id": "7f9d35c4",
   "metadata": {},
   "outputs": [],
   "source": [
    "#hình hộp chữ nhật có thể chứa tối đa 20029 hình lập phương"
   ]
  }
 ],
 "metadata": {
  "kernelspec": {
   "display_name": "Python 3 (ipykernel)",
   "language": "python",
   "name": "python3"
  },
  "language_info": {
   "codemirror_mode": {
    "name": "ipython",
    "version": 3
   },
   "file_extension": ".py",
   "mimetype": "text/x-python",
   "name": "python",
   "nbconvert_exporter": "python",
   "pygments_lexer": "ipython3",
   "version": "3.9.7"
  }
 },
 "nbformat": 4,
 "nbformat_minor": 5
}
